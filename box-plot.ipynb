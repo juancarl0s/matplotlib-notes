{
 "cells": [
  {
   "cell_type": "markdown",
   "metadata": {},
   "source": [
    "## Box Plot\n",
    "Way of representing statistics of the data with five main dimensions:\n",
    "- Minimum (lowest most line)\n",
    "- Maximum (highest line)\n",
    "- Median (middle line in rectangle)\n",
    "- First Quartile (line under Median)\n",
    "- Thrid Quartile (line over Median)\n",
    "- Ouliers (asterisks)"
   ]
  },
  {
   "cell_type": "code",
   "execution_count": 1,
   "metadata": {},
   "outputs": [],
   "source": [
    "import matplotlib as mpl\n",
    "import matplotlib.pyplot as plt\n",
    "import pandas as pd"
   ]
  },
  {
   "cell_type": "markdown",
   "metadata": {},
   "source": [
    "Pandas has a built-in implementation of matplotlib, which makes plotting much easier for us. Let's try it out"
   ]
  },
  {
   "cell_type": "code",
   "execution_count": 2,
   "metadata": {},
   "outputs": [
    {
     "data": {
      "text/html": [
       "<div>\n",
       "<style scoped>\n",
       "    .dataframe tbody tr th:only-of-type {\n",
       "        vertical-align: middle;\n",
       "    }\n",
       "\n",
       "    .dataframe tbody tr th {\n",
       "        vertical-align: top;\n",
       "    }\n",
       "\n",
       "    .dataframe thead th {\n",
       "        text-align: right;\n",
       "    }\n",
       "</style>\n",
       "<table border=\"1\" class=\"dataframe\">\n",
       "  <thead>\n",
       "    <tr style=\"text-align: right;\">\n",
       "      <th></th>\n",
       "      <th>rank</th>\n",
       "      <th>name</th>\n",
       "      <th>state_name</th>\n",
       "      <th>early_career_pay</th>\n",
       "      <th>mid_career_pay</th>\n",
       "      <th>make_world_better_percent</th>\n",
       "      <th>stem_percent</th>\n",
       "    </tr>\n",
       "  </thead>\n",
       "  <tbody>\n",
       "    <tr>\n",
       "      <th>0</th>\n",
       "      <td>1</td>\n",
       "      <td>Auburn University</td>\n",
       "      <td>Alabama</td>\n",
       "      <td>54400</td>\n",
       "      <td>104500</td>\n",
       "      <td>51.0</td>\n",
       "      <td>31</td>\n",
       "    </tr>\n",
       "    <tr>\n",
       "      <th>1</th>\n",
       "      <td>2</td>\n",
       "      <td>University of Alabama in Huntsville</td>\n",
       "      <td>Alabama</td>\n",
       "      <td>57500</td>\n",
       "      <td>103900</td>\n",
       "      <td>59.0</td>\n",
       "      <td>45</td>\n",
       "    </tr>\n",
       "    <tr>\n",
       "      <th>2</th>\n",
       "      <td>3</td>\n",
       "      <td>The University of Alabama</td>\n",
       "      <td>Alabama</td>\n",
       "      <td>52300</td>\n",
       "      <td>97400</td>\n",
       "      <td>50.0</td>\n",
       "      <td>15</td>\n",
       "    </tr>\n",
       "    <tr>\n",
       "      <th>3</th>\n",
       "      <td>4</td>\n",
       "      <td>Tuskegee University</td>\n",
       "      <td>Alabama</td>\n",
       "      <td>54500</td>\n",
       "      <td>93500</td>\n",
       "      <td>61.0</td>\n",
       "      <td>30</td>\n",
       "    </tr>\n",
       "    <tr>\n",
       "      <th>4</th>\n",
       "      <td>5</td>\n",
       "      <td>Samford University</td>\n",
       "      <td>Alabama</td>\n",
       "      <td>48400</td>\n",
       "      <td>90500</td>\n",
       "      <td>52.0</td>\n",
       "      <td>3</td>\n",
       "    </tr>\n",
       "  </tbody>\n",
       "</table>\n",
       "</div>"
      ],
      "text/plain": [
       "   rank                                 name state_name  early_career_pay  \\\n",
       "0     1                    Auburn University    Alabama             54400   \n",
       "1     2  University of Alabama in Huntsville    Alabama             57500   \n",
       "2     3            The University of Alabama    Alabama             52300   \n",
       "3     4                  Tuskegee University    Alabama             54500   \n",
       "4     5                   Samford University    Alabama             48400   \n",
       "\n",
       "   mid_career_pay  make_world_better_percent  stem_percent  \n",
       "0          104500                       51.0            31  \n",
       "1          103900                       59.0            45  \n",
       "2           97400                       50.0            15  \n",
       "3           93500                       61.0            30  \n",
       "4           90500                       52.0             3  "
      ]
     },
     "execution_count": 2,
     "metadata": {},
     "output_type": "execute_result"
    }
   ],
   "source": [
    "df = pd.read_csv(r'./college/salary_potential.csv') # load data\n",
    "df.head()"
   ]
  },
  {
   "cell_type": "code",
   "execution_count": 3,
   "metadata": {},
   "outputs": [
    {
     "data": {
      "text/html": [
       "<div>\n",
       "<style scoped>\n",
       "    .dataframe tbody tr th:only-of-type {\n",
       "        vertical-align: middle;\n",
       "    }\n",
       "\n",
       "    .dataframe tbody tr th {\n",
       "        vertical-align: top;\n",
       "    }\n",
       "\n",
       "    .dataframe thead th {\n",
       "        text-align: right;\n",
       "    }\n",
       "</style>\n",
       "<table border=\"1\" class=\"dataframe\">\n",
       "  <thead>\n",
       "    <tr style=\"text-align: right;\">\n",
       "      <th></th>\n",
       "      <th>rank</th>\n",
       "      <th>name</th>\n",
       "      <th>state_name</th>\n",
       "      <th>early_career_pay</th>\n",
       "      <th>mid_career_pay</th>\n",
       "      <th>make_world_better_percent</th>\n",
       "      <th>stem_percent</th>\n",
       "    </tr>\n",
       "  </thead>\n",
       "  <tbody>\n",
       "    <tr>\n",
       "      <th>123</th>\n",
       "      <td>1</td>\n",
       "      <td>Embry-Riddle Aeronautical University-Daytona B...</td>\n",
       "      <td>Florida</td>\n",
       "      <td>63300</td>\n",
       "      <td>111200</td>\n",
       "      <td>58.0</td>\n",
       "      <td>35</td>\n",
       "    </tr>\n",
       "    <tr>\n",
       "      <th>124</th>\n",
       "      <td>2</td>\n",
       "      <td>Polytechnic University of Puerto Rico-Miami</td>\n",
       "      <td>Florida</td>\n",
       "      <td>60600</td>\n",
       "      <td>108300</td>\n",
       "      <td>61.0</td>\n",
       "      <td>10</td>\n",
       "    </tr>\n",
       "    <tr>\n",
       "      <th>125</th>\n",
       "      <td>3</td>\n",
       "      <td>Florida Institute of Technology</td>\n",
       "      <td>Florida</td>\n",
       "      <td>58300</td>\n",
       "      <td>105400</td>\n",
       "      <td>53.0</td>\n",
       "      <td>48</td>\n",
       "    </tr>\n",
       "    <tr>\n",
       "      <th>126</th>\n",
       "      <td>4</td>\n",
       "      <td>University of Florida</td>\n",
       "      <td>Florida</td>\n",
       "      <td>55800</td>\n",
       "      <td>102800</td>\n",
       "      <td>52.0</td>\n",
       "      <td>29</td>\n",
       "    </tr>\n",
       "    <tr>\n",
       "      <th>127</th>\n",
       "      <td>5</td>\n",
       "      <td>Polytechnic University of Puerto Rico-Orlando</td>\n",
       "      <td>Florida</td>\n",
       "      <td>57600</td>\n",
       "      <td>102200</td>\n",
       "      <td>66.0</td>\n",
       "      <td>29</td>\n",
       "    </tr>\n",
       "  </tbody>\n",
       "</table>\n",
       "</div>"
      ],
      "text/plain": [
       "     rank                                               name state_name  \\\n",
       "123     1  Embry-Riddle Aeronautical University-Daytona B...    Florida   \n",
       "124     2        Polytechnic University of Puerto Rico-Miami    Florida   \n",
       "125     3                    Florida Institute of Technology    Florida   \n",
       "126     4                              University of Florida    Florida   \n",
       "127     5      Polytechnic University of Puerto Rico-Orlando    Florida   \n",
       "\n",
       "     early_career_pay  mid_career_pay  make_world_better_percent  stem_percent  \n",
       "123             63300          111200                       58.0            35  \n",
       "124             60600          108300                       61.0            10  \n",
       "125             58300          105400                       53.0            48  \n",
       "126             55800          102800                       52.0            29  \n",
       "127             57600          102200                       66.0            29  "
      ]
     },
     "execution_count": 3,
     "metadata": {},
     "output_type": "execute_result"
    }
   ],
   "source": [
    "florida = df[(df.state_name=='Florida')]\n",
    "florida.head()"
   ]
  },
  {
   "cell_type": "code",
   "execution_count": 4,
   "metadata": {},
   "outputs": [
    {
     "data": {
      "image/png": "[encoded data removed]",
      "text/plain": [
       "<Figure size 432x288 with 1 Axes>"
      ]
     },
     "metadata": {
      "needs_background": "light"
     },
     "output_type": "display_data"
    }
   ],
   "source": [
    "florida.mid_career_pay.plot(kind='box')\n",
    "plt.title('Florida college graduates mid career pay')\n",
    "plt.show()"
   ]
  },
  {
   "cell_type": "code",
   "execution_count": 5,
   "metadata": {},
   "outputs": [
    {
     "data": {
      "image/png": "[encoded data removed]",
      "text/plain": [
       "<Figure size 432x288 with 1 Axes>"
      ]
     },
     "metadata": {
      "needs_background": "light"
     },
     "output_type": "display_data"
    }
   ],
   "source": [
    "florida.early_career_pay.plot(kind='box')\n",
    "plt.title('Florida college graduates early career pay')\n",
    "plt.show()"
   ]
  },
  {
   "cell_type": "code",
   "execution_count": 6,
   "metadata": {},
   "outputs": [
    {
     "data": {
      "text/html": [
       "<div>\n",
       "<style scoped>\n",
       "    .dataframe tbody tr th:only-of-type {\n",
       "        vertical-align: middle;\n",
       "    }\n",
       "\n",
       "    .dataframe tbody tr th {\n",
       "        vertical-align: top;\n",
       "    }\n",
       "\n",
       "    .dataframe thead th {\n",
       "        text-align: right;\n",
       "    }\n",
       "</style>\n",
       "<table border=\"1\" class=\"dataframe\">\n",
       "  <thead>\n",
       "    <tr style=\"text-align: right;\">\n",
       "      <th></th>\n",
       "      <th>rank</th>\n",
       "      <th>name</th>\n",
       "      <th>state_name</th>\n",
       "      <th>early_career_pay</th>\n",
       "      <th>mid_career_pay</th>\n",
       "      <th>make_world_better_percent</th>\n",
       "      <th>stem_percent</th>\n",
       "    </tr>\n",
       "  </thead>\n",
       "  <tbody>\n",
       "    <tr>\n",
       "      <th>54</th>\n",
       "      <td>1</td>\n",
       "      <td>Harvey Mudd College</td>\n",
       "      <td>California</td>\n",
       "      <td>88800</td>\n",
       "      <td>158200</td>\n",
       "      <td>55.0</td>\n",
       "      <td>85</td>\n",
       "    </tr>\n",
       "    <tr>\n",
       "      <th>55</th>\n",
       "      <td>2</td>\n",
       "      <td>Samuel Merritt University</td>\n",
       "      <td>California</td>\n",
       "      <td>91200</td>\n",
       "      <td>154100</td>\n",
       "      <td>90.0</td>\n",
       "      <td>0</td>\n",
       "    </tr>\n",
       "    <tr>\n",
       "      <th>56</th>\n",
       "      <td>3</td>\n",
       "      <td>California Institute of Technology</td>\n",
       "      <td>California</td>\n",
       "      <td>84100</td>\n",
       "      <td>151600</td>\n",
       "      <td>53.0</td>\n",
       "      <td>97</td>\n",
       "    </tr>\n",
       "    <tr>\n",
       "      <th>57</th>\n",
       "      <td>4</td>\n",
       "      <td>Stanford University</td>\n",
       "      <td>California</td>\n",
       "      <td>79000</td>\n",
       "      <td>145200</td>\n",
       "      <td>56.0</td>\n",
       "      <td>51</td>\n",
       "    </tr>\n",
       "    <tr>\n",
       "      <th>58</th>\n",
       "      <td>5</td>\n",
       "      <td>Charles R Drew University of Medicine and Science</td>\n",
       "      <td>California</td>\n",
       "      <td>78300</td>\n",
       "      <td>135700</td>\n",
       "      <td>NaN</td>\n",
       "      <td>3</td>\n",
       "    </tr>\n",
       "  </tbody>\n",
       "</table>\n",
       "</div>"
      ],
      "text/plain": [
       "    rank                                               name  state_name  \\\n",
       "54     1                                Harvey Mudd College  California   \n",
       "55     2                          Samuel Merritt University  California   \n",
       "56     3                 California Institute of Technology  California   \n",
       "57     4                                Stanford University  California   \n",
       "58     5  Charles R Drew University of Medicine and Science  California   \n",
       "\n",
       "    early_career_pay  mid_career_pay  make_world_better_percent  stem_percent  \n",
       "54             88800          158200                       55.0            85  \n",
       "55             91200          154100                       90.0             0  \n",
       "56             84100          151600                       53.0            97  \n",
       "57             79000          145200                       56.0            51  \n",
       "58             78300          135700                        NaN             3  "
      ]
     },
     "execution_count": 6,
     "metadata": {},
     "output_type": "execute_result"
    }
   ],
   "source": [
    "ca = df[(df.state_name=='California')]\n",
    "ca.head()"
   ]
  },
  {
   "cell_type": "code",
   "execution_count": 7,
   "metadata": {},
   "outputs": [
    {
     "data": {
      "image/png": "[encoded data removed]",
      "text/plain": [
       "<Figure size 432x288 with 1 Axes>"
      ]
     },
     "metadata": {
      "needs_background": "light"
     },
     "output_type": "display_data"
    }
   ],
   "source": [
    "ca.mid_career_pay.plot(kind='box')\n",
    "plt.title('California college graduates mid career pay')\n",
    "plt.show()"
   ]
  },
  {
   "cell_type": "code",
   "execution_count": 8,
   "metadata": {},
   "outputs": [
    {
     "data": {
      "image/png": "[encoded data removed]",
      "text/plain": [
       "<Figure size 432x288 with 1 Axes>"
      ]
     },
     "metadata": {
      "needs_background": "light"
     },
     "output_type": "display_data"
    }
   ],
   "source": [
    "ca.early_career_pay.plot(kind='box')\n",
    "plt.title('California college graduates early career pay')\n",
    "plt.show()"
   ]
  }
 ],
 "metadata": {
  "kernelspec": {
   "display_name": "Python 3.8.2 64-bit (conda)",
   "language": "python",
   "name": "python38264bitconda579f63bc2f94416d90c0e065b05d86ff"
  },
  "language_info": {
   "codemirror_mode": {
    "name": "ipython",
    "version": 3
   },
   "file_extension": ".py",
   "mimetype": "text/x-python",
   "name": "python",
   "nbconvert_exporter": "python",
   "pygments_lexer": "ipython3",
   "version": "3.8.2"
  }
 },
 "nbformat": 4,
 "nbformat_minor": 4
}
