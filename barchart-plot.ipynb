{
 "cells": [
  {
   "cell_type": "markdown",
   "metadata": {},
   "source": [
    "## Barchart Plot\n",
    "Each bar in the chart is proportional to the represented value. Commonly used to compare values of a variable at a given point in time"
   ]
  },
  {
   "cell_type": "code",
   "execution_count": 1,
   "metadata": {},
   "outputs": [],
   "source": [
    "import matplotlib as mpl\n",
    "import matplotlib.pyplot as plt\n",
    "import pandas as pd"
   ]
  },
  {
   "cell_type": "markdown",
   "metadata": {},
   "source": [
    "Pandas has a built-in implementation of matplotlib, which makes plotting much easier for us. Let's try it out"
   ]
  },
  {
   "cell_type": "code",
   "execution_count": 2,
   "metadata": {},
   "outputs": [
    {
     "data": {
      "text/html": [
       "<div>\n",
       "<style scoped>\n",
       "    .dataframe tbody tr th:only-of-type {\n",
       "        vertical-align: middle;\n",
       "    }\n",
       "\n",
       "    .dataframe tbody tr th {\n",
       "        vertical-align: top;\n",
       "    }\n",
       "\n",
       "    .dataframe thead th {\n",
       "        text-align: right;\n",
       "    }\n",
       "</style>\n",
       "<table border=\"1\" class=\"dataframe\">\n",
       "  <thead>\n",
       "    <tr style=\"text-align: right;\">\n",
       "      <th></th>\n",
       "      <th>type</th>\n",
       "      <th>year</th>\n",
       "      <th>tuition_type</th>\n",
       "      <th>tuition_cost</th>\n",
       "    </tr>\n",
       "  </thead>\n",
       "  <tbody>\n",
       "    <tr>\n",
       "      <th>0</th>\n",
       "      <td>All Institutions</td>\n",
       "      <td>1985-86</td>\n",
       "      <td>All Constant</td>\n",
       "      <td>10893</td>\n",
       "    </tr>\n",
       "    <tr>\n",
       "      <th>1</th>\n",
       "      <td>All Institutions</td>\n",
       "      <td>1985-86</td>\n",
       "      <td>4 Year Constant</td>\n",
       "      <td>12274</td>\n",
       "    </tr>\n",
       "    <tr>\n",
       "      <th>2</th>\n",
       "      <td>All Institutions</td>\n",
       "      <td>1985-86</td>\n",
       "      <td>2 Year Constant</td>\n",
       "      <td>7508</td>\n",
       "    </tr>\n",
       "    <tr>\n",
       "      <th>3</th>\n",
       "      <td>All Institutions</td>\n",
       "      <td>1985-86</td>\n",
       "      <td>All Current</td>\n",
       "      <td>4885</td>\n",
       "    </tr>\n",
       "    <tr>\n",
       "      <th>4</th>\n",
       "      <td>All Institutions</td>\n",
       "      <td>1985-86</td>\n",
       "      <td>4 Year Current</td>\n",
       "      <td>5504</td>\n",
       "    </tr>\n",
       "    <tr>\n",
       "      <th>...</th>\n",
       "      <td>...</td>\n",
       "      <td>...</td>\n",
       "      <td>...</td>\n",
       "      <td>...</td>\n",
       "    </tr>\n",
       "    <tr>\n",
       "      <th>265</th>\n",
       "      <td>Private</td>\n",
       "      <td>2016-17</td>\n",
       "      <td>4 Year Constant</td>\n",
       "      <td>41468</td>\n",
       "    </tr>\n",
       "    <tr>\n",
       "      <th>266</th>\n",
       "      <td>Private</td>\n",
       "      <td>2016-17</td>\n",
       "      <td>2 Year Constant</td>\n",
       "      <td>24882</td>\n",
       "    </tr>\n",
       "    <tr>\n",
       "      <th>267</th>\n",
       "      <td>Private</td>\n",
       "      <td>2016-17</td>\n",
       "      <td>All Current</td>\n",
       "      <td>40925</td>\n",
       "    </tr>\n",
       "    <tr>\n",
       "      <th>268</th>\n",
       "      <td>Private</td>\n",
       "      <td>2016-17</td>\n",
       "      <td>4 Year Current</td>\n",
       "      <td>41468</td>\n",
       "    </tr>\n",
       "    <tr>\n",
       "      <th>269</th>\n",
       "      <td>Private</td>\n",
       "      <td>2016-17</td>\n",
       "      <td>2 Year Current</td>\n",
       "      <td>24882</td>\n",
       "    </tr>\n",
       "  </tbody>\n",
       "</table>\n",
       "<p>270 rows × 4 columns</p>\n",
       "</div>"
      ],
      "text/plain": [
       "                 type     year     tuition_type  tuition_cost\n",
       "0    All Institutions  1985-86     All Constant         10893\n",
       "1    All Institutions  1985-86  4 Year Constant         12274\n",
       "2    All Institutions  1985-86  2 Year Constant          7508\n",
       "3    All Institutions  1985-86      All Current          4885\n",
       "4    All Institutions  1985-86   4 Year Current          5504\n",
       "..                ...      ...              ...           ...\n",
       "265           Private  2016-17  4 Year Constant         41468\n",
       "266           Private  2016-17  2 Year Constant         24882\n",
       "267           Private  2016-17      All Current         40925\n",
       "268           Private  2016-17   4 Year Current         41468\n",
       "269           Private  2016-17   2 Year Current         24882\n",
       "\n",
       "[270 rows x 4 columns]"
      ]
     },
     "execution_count": 2,
     "metadata": {},
     "output_type": "execute_result"
    }
   ],
   "source": [
    "df = pd.read_csv(r'./college/historical_tuition.csv') # load data\n",
    "df"
   ]
  },
  {
   "cell_type": "code",
   "execution_count": 3,
   "metadata": {},
   "outputs": [
    {
     "data": {
      "text/html": [
       "<div>\n",
       "<style scoped>\n",
       "    .dataframe tbody tr th:only-of-type {\n",
       "        vertical-align: middle;\n",
       "    }\n",
       "\n",
       "    .dataframe tbody tr th {\n",
       "        vertical-align: top;\n",
       "    }\n",
       "\n",
       "    .dataframe thead th {\n",
       "        text-align: right;\n",
       "    }\n",
       "</style>\n",
       "<table border=\"1\" class=\"dataframe\">\n",
       "  <thead>\n",
       "    <tr style=\"text-align: right;\">\n",
       "      <th></th>\n",
       "      <th>type</th>\n",
       "      <th>year</th>\n",
       "      <th>tuition_type</th>\n",
       "      <th>tuition_cost</th>\n",
       "    </tr>\n",
       "  </thead>\n",
       "  <tbody>\n",
       "    <tr>\n",
       "      <th>3</th>\n",
       "      <td>All Institutions</td>\n",
       "      <td>1985-86</td>\n",
       "      <td>All Current</td>\n",
       "      <td>4885</td>\n",
       "    </tr>\n",
       "    <tr>\n",
       "      <th>9</th>\n",
       "      <td>All Institutions</td>\n",
       "      <td>1995-96</td>\n",
       "      <td>All Current</td>\n",
       "      <td>8800</td>\n",
       "    </tr>\n",
       "    <tr>\n",
       "      <th>15</th>\n",
       "      <td>All Institutions</td>\n",
       "      <td>2000-01</td>\n",
       "      <td>All Current</td>\n",
       "      <td>10820</td>\n",
       "    </tr>\n",
       "    <tr>\n",
       "      <th>21</th>\n",
       "      <td>All Institutions</td>\n",
       "      <td>2001-02</td>\n",
       "      <td>All Current</td>\n",
       "      <td>11380</td>\n",
       "    </tr>\n",
       "    <tr>\n",
       "      <th>27</th>\n",
       "      <td>All Institutions</td>\n",
       "      <td>2002-03</td>\n",
       "      <td>All Current</td>\n",
       "      <td>12014</td>\n",
       "    </tr>\n",
       "  </tbody>\n",
       "</table>\n",
       "</div>"
      ],
      "text/plain": [
       "                type     year tuition_type  tuition_cost\n",
       "3   All Institutions  1985-86  All Current          4885\n",
       "9   All Institutions  1995-96  All Current          8800\n",
       "15  All Institutions  2000-01  All Current         10820\n",
       "21  All Institutions  2001-02  All Current         11380\n",
       "27  All Institutions  2002-03  All Current         12014"
      ]
     },
     "execution_count": 3,
     "metadata": {},
     "output_type": "execute_result"
    }
   ],
   "source": [
    "cond = df.tuition_type == 'All Current'\n",
    "all_colleges = df[cond]\n",
    "\n",
    "all_colleges.sort_values(by=['year'], ascending=True)\n",
    "all_colleges.head()"
   ]
  },
  {
   "cell_type": "code",
   "execution_count": 4,
   "metadata": {},
   "outputs": [
    {
     "data": {
      "text/html": [
       "<div>\n",
       "<style scoped>\n",
       "    .dataframe tbody tr th:only-of-type {\n",
       "        vertical-align: middle;\n",
       "    }\n",
       "\n",
       "    .dataframe tbody tr th {\n",
       "        vertical-align: top;\n",
       "    }\n",
       "\n",
       "    .dataframe thead th {\n",
       "        text-align: right;\n",
       "    }\n",
       "</style>\n",
       "<table border=\"1\" class=\"dataframe\">\n",
       "  <thead>\n",
       "    <tr style=\"text-align: right;\">\n",
       "      <th></th>\n",
       "      <th>year</th>\n",
       "      <th>tuition_cost</th>\n",
       "    </tr>\n",
       "  </thead>\n",
       "  <tbody>\n",
       "    <tr>\n",
       "      <th>195</th>\n",
       "      <td>1985-86</td>\n",
       "      <td>8885</td>\n",
       "    </tr>\n",
       "    <tr>\n",
       "      <th>201</th>\n",
       "      <td>1995-96</td>\n",
       "      <td>17208</td>\n",
       "    </tr>\n",
       "    <tr>\n",
       "      <th>207</th>\n",
       "      <td>2000-01</td>\n",
       "      <td>21373</td>\n",
       "    </tr>\n",
       "    <tr>\n",
       "      <th>213</th>\n",
       "      <td>2001-02</td>\n",
       "      <td>22413</td>\n",
       "    </tr>\n",
       "    <tr>\n",
       "      <th>219</th>\n",
       "      <td>2002-03</td>\n",
       "      <td>23340</td>\n",
       "    </tr>\n",
       "    <tr>\n",
       "      <th>225</th>\n",
       "      <td>2003-04</td>\n",
       "      <td>24624</td>\n",
       "    </tr>\n",
       "    <tr>\n",
       "      <th>231</th>\n",
       "      <td>2004-05</td>\n",
       "      <td>25817</td>\n",
       "    </tr>\n",
       "    <tr>\n",
       "      <th>237</th>\n",
       "      <td>2005-06</td>\n",
       "      <td>26908</td>\n",
       "    </tr>\n",
       "    <tr>\n",
       "      <th>243</th>\n",
       "      <td>2009-10</td>\n",
       "      <td>31341</td>\n",
       "    </tr>\n",
       "    <tr>\n",
       "      <th>249</th>\n",
       "      <td>2013-14</td>\n",
       "      <td>35995</td>\n",
       "    </tr>\n",
       "    <tr>\n",
       "      <th>255</th>\n",
       "      <td>2014-15</td>\n",
       "      <td>37422</td>\n",
       "    </tr>\n",
       "    <tr>\n",
       "      <th>261</th>\n",
       "      <td>2015-16</td>\n",
       "      <td>39016</td>\n",
       "    </tr>\n",
       "    <tr>\n",
       "      <th>267</th>\n",
       "      <td>2016-17</td>\n",
       "      <td>40925</td>\n",
       "    </tr>\n",
       "  </tbody>\n",
       "</table>\n",
       "</div>"
      ],
      "text/plain": [
       "        year  tuition_cost\n",
       "195  1985-86          8885\n",
       "201  1995-96         17208\n",
       "207  2000-01         21373\n",
       "213  2001-02         22413\n",
       "219  2002-03         23340\n",
       "225  2003-04         24624\n",
       "231  2004-05         25817\n",
       "237  2005-06         26908\n",
       "243  2009-10         31341\n",
       "249  2013-14         35995\n",
       "255  2014-15         37422\n",
       "261  2015-16         39016\n",
       "267  2016-17         40925"
      ]
     },
     "execution_count": 4,
     "metadata": {},
     "output_type": "execute_result"
    }
   ],
   "source": [
    "private_colleges = all_colleges[all_colleges.type=='Private']\n",
    "private_colleges = private_colleges[['year', 'tuition_cost']]\n",
    "private_colleges"
   ]
  },
  {
   "cell_type": "code",
   "execution_count": 5,
   "metadata": {},
   "outputs": [
    {
     "data": {
      "text/plain": [
       "Text(0.5, 1.0, 'Private tuition price')"
      ]
     },
     "execution_count": 5,
     "metadata": {},
     "output_type": "execute_result"
    },
    {
     "data": {
      "image/png": "[encoded data removed]",
      "text/plain": [
       "<Figure size 432x288 with 1 Axes>"
      ]
     },
     "metadata": {
      "needs_background": "light"
     },
     "output_type": "display_data"
    }
   ],
   "source": [
    "private = pd.DataFrame({\n",
    "    'Tuition': private_colleges.tuition_cost.tolist(),\n",
    "    'Year': private_colleges.year.tolist(),\n",
    "})\n",
    "\n",
    "private.plot(kind='bar', x='Year', y='Tuition')\n",
    "plt.title('Private tuition price')"
   ]
  },
  {
   "cell_type": "code",
   "execution_count": 6,
   "metadata": {},
   "outputs": [
    {
     "data": {
      "text/plain": [
       "Text(0.5, 1.0, 'Public tuition price')"
      ]
     },
     "execution_count": 6,
     "metadata": {},
     "output_type": "execute_result"
    },
    {
     "data": {
      "image/png": "[encoded data removed]",
      "text/plain": [
       "<Figure size 432x288 with 1 Axes>"
      ]
     },
     "metadata": {
      "needs_background": "light"
     },
     "output_type": "display_data"
    }
   ],
   "source": [
    "public_colleges = all_colleges[all_colleges.type=='Public']\n",
    "public_colleges = public_colleges[['year', 'tuition_cost']]\n",
    "public_colleges\n",
    "\n",
    "public = pd.DataFrame({\n",
    "    'Tuition': public_colleges.tuition_cost.tolist(),\n",
    "    'Year': public_colleges.year.tolist(),\n",
    "})\n",
    "\n",
    "public.plot(kind='bar', x='Year', y='Tuition')\n",
    "plt.title('Public tuition price')"
   ]
  },
  {
   "cell_type": "code",
   "execution_count": 7,
   "metadata": {},
   "outputs": [
    {
     "data": {
      "text/plain": [
       "<matplotlib.axes._subplots.AxesSubplot at 0x7ff52e9cb280>"
      ]
     },
     "execution_count": 7,
     "metadata": {},
     "output_type": "execute_result"
    },
    {
     "data": {
      "image/png": "[encoded data removed]",
      "text/plain": [
       "<Figure size 432x288 with 1 Axes>"
      ]
     },
     "metadata": {
      "needs_background": "light"
     },
     "output_type": "display_data"
    }
   ],
   "source": [
    "public_private = pd.DataFrame({\n",
    "        'Public': public_colleges.tuition_cost.tolist(),\n",
    "        'Private': private_colleges.tuition_cost.tolist()\n",
    "    },\n",
    "    index=public_colleges.year.tolist()\n",
    ")\n",
    "public_private.plot(kind='bar')"
   ]
  },
  {
   "cell_type": "code",
   "execution_count": null,
   "metadata": {},
   "outputs": [],
   "source": []
  }
 ],
 "metadata": {
  "kernelspec": {
   "display_name": "Python 3.8.2 64-bit (conda)",
   "language": "python",
   "name": "python38264bitconda579f63bc2f94416d90c0e065b05d86ff"
  },
  "language_info": {
   "codemirror_mode": {
    "name": "ipython",
    "version": 3
   },
   "file_extension": ".py",
   "mimetype": "text/x-python",
   "name": "python",
   "nbconvert_exporter": "python",
   "pygments_lexer": "ipython3",
   "version": "3.8.2"
  }
 },
 "nbformat": 4,
 "nbformat_minor": 4
}
