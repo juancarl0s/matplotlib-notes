{
 "cells": [
  {
   "cell_type": "markdown",
   "metadata": {},
   "source": [
    "## Pie chart Plot\n",
    "Way of representing the frequency distribution of a variable"
   ]
  },
  {
   "cell_type": "code",
   "execution_count": 150,
   "metadata": {},
   "outputs": [],
   "source": [
    "import matplotlib as mpl\n",
    "import matplotlib.pyplot as plt\n",
    "import pandas as pd"
   ]
  },
  {
   "cell_type": "markdown",
   "metadata": {},
   "source": [
    "Pandas has a built-in implementation of matplotlib, which makes plotting much easier for us. Let's try it out"
   ]
  },
  {
   "cell_type": "code",
   "execution_count": 151,
   "metadata": {},
   "outputs": [
    {
     "data": {
      "text/html": [
       "<div>\n",
       "<style scoped>\n",
       "    .dataframe tbody tr th:only-of-type {\n",
       "        vertical-align: middle;\n",
       "    }\n",
       "\n",
       "    .dataframe tbody tr th {\n",
       "        vertical-align: top;\n",
       "    }\n",
       "\n",
       "    .dataframe thead th {\n",
       "        text-align: right;\n",
       "    }\n",
       "</style>\n",
       "<table border=\"1\" class=\"dataframe\">\n",
       "  <thead>\n",
       "    <tr style=\"text-align: right;\">\n",
       "      <th></th>\n",
       "      <th>name</th>\n",
       "      <th>total_enrollment</th>\n",
       "      <th>state</th>\n",
       "      <th>category</th>\n",
       "      <th>enrollment</th>\n",
       "    </tr>\n",
       "  </thead>\n",
       "  <tbody>\n",
       "    <tr>\n",
       "      <th>0</th>\n",
       "      <td>University of Phoenix-Arizona</td>\n",
       "      <td>195059</td>\n",
       "      <td>Arizona</td>\n",
       "      <td>Women</td>\n",
       "      <td>134722</td>\n",
       "    </tr>\n",
       "    <tr>\n",
       "      <th>1</th>\n",
       "      <td>University of Phoenix-Arizona</td>\n",
       "      <td>195059</td>\n",
       "      <td>Arizona</td>\n",
       "      <td>American Indian / Alaska Native</td>\n",
       "      <td>876</td>\n",
       "    </tr>\n",
       "    <tr>\n",
       "      <th>2</th>\n",
       "      <td>University of Phoenix-Arizona</td>\n",
       "      <td>195059</td>\n",
       "      <td>Arizona</td>\n",
       "      <td>Asian</td>\n",
       "      <td>1959</td>\n",
       "    </tr>\n",
       "    <tr>\n",
       "      <th>3</th>\n",
       "      <td>University of Phoenix-Arizona</td>\n",
       "      <td>195059</td>\n",
       "      <td>Arizona</td>\n",
       "      <td>Black</td>\n",
       "      <td>31455</td>\n",
       "    </tr>\n",
       "    <tr>\n",
       "      <th>4</th>\n",
       "      <td>University of Phoenix-Arizona</td>\n",
       "      <td>195059</td>\n",
       "      <td>Arizona</td>\n",
       "      <td>Hispanic</td>\n",
       "      <td>13984</td>\n",
       "    </tr>\n",
       "  </tbody>\n",
       "</table>\n",
       "</div>"
      ],
      "text/plain": [
       "                            name  total_enrollment    state  \\\n",
       "0  University of Phoenix-Arizona            195059  Arizona   \n",
       "1  University of Phoenix-Arizona            195059  Arizona   \n",
       "2  University of Phoenix-Arizona            195059  Arizona   \n",
       "3  University of Phoenix-Arizona            195059  Arizona   \n",
       "4  University of Phoenix-Arizona            195059  Arizona   \n",
       "\n",
       "                          category  enrollment  \n",
       "0                            Women      134722  \n",
       "1  American Indian / Alaska Native         876  \n",
       "2                            Asian        1959  \n",
       "3                            Black       31455  \n",
       "4                         Hispanic       13984  "
      ]
     },
     "execution_count": 151,
     "metadata": {},
     "output_type": "execute_result"
    }
   ],
   "source": [
    "df = pd.read_csv(r'./college/diversity_school.csv') # load data\n",
    "df.head()"
   ]
  },
  {
   "cell_type": "code",
   "execution_count": 152,
   "metadata": {},
   "outputs": [
    {
     "data": {
      "text/plain": [
       "array(['Women', 'American Indian / Alaska Native', 'Asian', 'Black',\n",
       "       'Hispanic', 'Native Hawaiian / Pacific Islander', 'White',\n",
       "       'Two Or More Races', 'Unknown', 'Non-Resident Foreign',\n",
       "       'Total Minority'], dtype=object)"
      ]
     },
     "execution_count": 152,
     "metadata": {},
     "output_type": "execute_result"
    }
   ],
   "source": [
    "df.category.unique()"
   ]
  },
  {
   "cell_type": "code",
   "execution_count": 153,
   "metadata": {},
   "outputs": [
    {
     "data": {
      "text/html": [
       "<div>\n",
       "<style scoped>\n",
       "    .dataframe tbody tr th:only-of-type {\n",
       "        vertical-align: middle;\n",
       "    }\n",
       "\n",
       "    .dataframe tbody tr th {\n",
       "        vertical-align: top;\n",
       "    }\n",
       "\n",
       "    .dataframe thead th {\n",
       "        text-align: right;\n",
       "    }\n",
       "</style>\n",
       "<table border=\"1\" class=\"dataframe\">\n",
       "  <thead>\n",
       "    <tr style=\"text-align: right;\">\n",
       "      <th></th>\n",
       "      <th>category</th>\n",
       "      <th>enrollment</th>\n",
       "    </tr>\n",
       "  </thead>\n",
       "  <tbody>\n",
       "    <tr>\n",
       "      <th>1</th>\n",
       "      <td>American Indian / Alaska Native</td>\n",
       "      <td>876</td>\n",
       "    </tr>\n",
       "    <tr>\n",
       "      <th>2</th>\n",
       "      <td>Asian</td>\n",
       "      <td>1959</td>\n",
       "    </tr>\n",
       "    <tr>\n",
       "      <th>3</th>\n",
       "      <td>Black</td>\n",
       "      <td>31455</td>\n",
       "    </tr>\n",
       "    <tr>\n",
       "      <th>4</th>\n",
       "      <td>Hispanic</td>\n",
       "      <td>13984</td>\n",
       "    </tr>\n",
       "    <tr>\n",
       "      <th>5</th>\n",
       "      <td>Native Hawaiian / Pacific Islander</td>\n",
       "      <td>1019</td>\n",
       "    </tr>\n",
       "    <tr>\n",
       "      <th>...</th>\n",
       "      <td>...</td>\n",
       "      <td>...</td>\n",
       "    </tr>\n",
       "    <tr>\n",
       "      <th>50647</th>\n",
       "      <td>Black</td>\n",
       "      <td>0</td>\n",
       "    </tr>\n",
       "    <tr>\n",
       "      <th>50648</th>\n",
       "      <td>Hispanic</td>\n",
       "      <td>0</td>\n",
       "    </tr>\n",
       "    <tr>\n",
       "      <th>50649</th>\n",
       "      <td>Native Hawaiian / Pacific Islander</td>\n",
       "      <td>0</td>\n",
       "    </tr>\n",
       "    <tr>\n",
       "      <th>50650</th>\n",
       "      <td>White</td>\n",
       "      <td>1</td>\n",
       "    </tr>\n",
       "    <tr>\n",
       "      <th>50652</th>\n",
       "      <td>Unknown</td>\n",
       "      <td>0</td>\n",
       "    </tr>\n",
       "  </tbody>\n",
       "</table>\n",
       "<p>32235 rows × 2 columns</p>\n",
       "</div>"
      ],
      "text/plain": [
       "                                 category  enrollment\n",
       "1         American Indian / Alaska Native         876\n",
       "2                                   Asian        1959\n",
       "3                                   Black       31455\n",
       "4                                Hispanic       13984\n",
       "5      Native Hawaiian / Pacific Islander        1019\n",
       "...                                   ...         ...\n",
       "50647                               Black           0\n",
       "50648                            Hispanic           0\n",
       "50649  Native Hawaiian / Pacific Islander           0\n",
       "50650                               White           1\n",
       "50652                             Unknown           0\n",
       "\n",
       "[32235 rows x 2 columns]"
      ]
     },
     "execution_count": 153,
     "metadata": {},
     "output_type": "execute_result"
    }
   ],
   "source": [
    "df_c_e = df[['category', 'enrollment']]\n",
    "df_c_e = df_c_e[\n",
    "        (df_c_e.category != 'Women') &\n",
    "        (df_c_e.category != 'Two Or More Races') &\n",
    "        (df_c_e.category != 'Non-Resident Foreign') &\n",
    "        (df_c_e.category != 'Total Minority')\n",
    "    ]\n",
    "df_c_e"
   ]
  },
  {
   "cell_type": "code",
   "execution_count": 154,
   "metadata": {},
   "outputs": [
    {
     "data": {
      "image/png": "[encoded data removed]",
      "text/plain": [
       "<Figure size 432x288 with 1 Axes>"
      ]
     },
     "metadata": {},
     "output_type": "display_data"
    }
   ],
   "source": [
    "grouped = df_c_e.groupby('category', axis=0).sum()\n",
    "grouped['enrollment'].plot(kind='pie')\n",
    "plt.title('Enrollment Diversity')\n",
    "plt.show()"
   ]
  }
 ],
 "metadata": {
  "kernelspec": {
   "display_name": "Python 3.8.2 64-bit (conda)",
   "language": "python",
   "name": "python38264bitconda579f63bc2f94416d90c0e065b05d86ff"
  },
  "language_info": {
   "codemirror_mode": {
    "name": "ipython",
    "version": 3
   },
   "file_extension": ".py",
   "mimetype": "text/x-python",
   "name": "python",
   "nbconvert_exporter": "python",
   "pygments_lexer": "ipython3",
   "version": "3.8.2"
  }
 },
 "nbformat": 4,
 "nbformat_minor": 4
}
