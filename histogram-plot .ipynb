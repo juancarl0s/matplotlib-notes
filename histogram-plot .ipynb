{
 "cells": [
  {
   "cell_type": "markdown",
   "metadata": {},
   "source": [
    "## Histogram Plot\n",
    "Way of representing the frequency distribution of a variable"
   ]
  },
  {
   "cell_type": "code",
   "execution_count": 1,
   "metadata": {},
   "outputs": [],
   "source": [
    "import matplotlib as mpl\n",
    "import matplotlib.pyplot as plt\n",
    "import pandas as pd"
   ]
  },
  {
   "cell_type": "markdown",
   "metadata": {},
   "source": [
    "Pandas has a built-in implementation of matplotlib, which makes plotting much easier for us. Let's try it out"
   ]
  },
  {
   "cell_type": "code",
   "execution_count": 2,
   "metadata": {},
   "outputs": [
    {
     "data": {
      "text/html": [
       "<div>\n",
       "<style scoped>\n",
       "    .dataframe tbody tr th:only-of-type {\n",
       "        vertical-align: middle;\n",
       "    }\n",
       "\n",
       "    .dataframe tbody tr th {\n",
       "        vertical-align: top;\n",
       "    }\n",
       "\n",
       "    .dataframe thead th {\n",
       "        text-align: right;\n",
       "    }\n",
       "</style>\n",
       "<table border=\"1\" class=\"dataframe\">\n",
       "  <thead>\n",
       "    <tr style=\"text-align: right;\">\n",
       "      <th></th>\n",
       "      <th>rank</th>\n",
       "      <th>name</th>\n",
       "      <th>state_name</th>\n",
       "      <th>early_career_pay</th>\n",
       "      <th>mid_career_pay</th>\n",
       "      <th>make_world_better_percent</th>\n",
       "      <th>stem_percent</th>\n",
       "    </tr>\n",
       "  </thead>\n",
       "  <tbody>\n",
       "    <tr>\n",
       "      <th>0</th>\n",
       "      <td>1</td>\n",
       "      <td>Auburn University</td>\n",
       "      <td>Alabama</td>\n",
       "      <td>54400</td>\n",
       "      <td>104500</td>\n",
       "      <td>51.0</td>\n",
       "      <td>31</td>\n",
       "    </tr>\n",
       "    <tr>\n",
       "      <th>1</th>\n",
       "      <td>2</td>\n",
       "      <td>University of Alabama in Huntsville</td>\n",
       "      <td>Alabama</td>\n",
       "      <td>57500</td>\n",
       "      <td>103900</td>\n",
       "      <td>59.0</td>\n",
       "      <td>45</td>\n",
       "    </tr>\n",
       "    <tr>\n",
       "      <th>2</th>\n",
       "      <td>3</td>\n",
       "      <td>The University of Alabama</td>\n",
       "      <td>Alabama</td>\n",
       "      <td>52300</td>\n",
       "      <td>97400</td>\n",
       "      <td>50.0</td>\n",
       "      <td>15</td>\n",
       "    </tr>\n",
       "    <tr>\n",
       "      <th>3</th>\n",
       "      <td>4</td>\n",
       "      <td>Tuskegee University</td>\n",
       "      <td>Alabama</td>\n",
       "      <td>54500</td>\n",
       "      <td>93500</td>\n",
       "      <td>61.0</td>\n",
       "      <td>30</td>\n",
       "    </tr>\n",
       "    <tr>\n",
       "      <th>4</th>\n",
       "      <td>5</td>\n",
       "      <td>Samford University</td>\n",
       "      <td>Alabama</td>\n",
       "      <td>48400</td>\n",
       "      <td>90500</td>\n",
       "      <td>52.0</td>\n",
       "      <td>3</td>\n",
       "    </tr>\n",
       "    <tr>\n",
       "      <th>...</th>\n",
       "      <td>...</td>\n",
       "      <td>...</td>\n",
       "      <td>...</td>\n",
       "      <td>...</td>\n",
       "      <td>...</td>\n",
       "      <td>...</td>\n",
       "      <td>...</td>\n",
       "    </tr>\n",
       "    <tr>\n",
       "      <th>930</th>\n",
       "      <td>22</td>\n",
       "      <td>Viterbo University</td>\n",
       "      <td>Wisconsin</td>\n",
       "      <td>46800</td>\n",
       "      <td>81900</td>\n",
       "      <td>62.0</td>\n",
       "      <td>3</td>\n",
       "    </tr>\n",
       "    <tr>\n",
       "      <th>931</th>\n",
       "      <td>23</td>\n",
       "      <td>Concordia University-Wisconsin</td>\n",
       "      <td>Wisconsin</td>\n",
       "      <td>46700</td>\n",
       "      <td>81600</td>\n",
       "      <td>61.0</td>\n",
       "      <td>9</td>\n",
       "    </tr>\n",
       "    <tr>\n",
       "      <th>932</th>\n",
       "      <td>24</td>\n",
       "      <td>University of Wisconsin-Parkside</td>\n",
       "      <td>Wisconsin</td>\n",
       "      <td>46000</td>\n",
       "      <td>81400</td>\n",
       "      <td>47.0</td>\n",
       "      <td>17</td>\n",
       "    </tr>\n",
       "    <tr>\n",
       "      <th>933</th>\n",
       "      <td>25</td>\n",
       "      <td>University of Wisconsin-River Falls</td>\n",
       "      <td>Wisconsin</td>\n",
       "      <td>47100</td>\n",
       "      <td>81300</td>\n",
       "      <td>52.0</td>\n",
       "      <td>14</td>\n",
       "    </tr>\n",
       "    <tr>\n",
       "      <th>934</th>\n",
       "      <td>1</td>\n",
       "      <td>University of Wyoming</td>\n",
       "      <td>Wyoming</td>\n",
       "      <td>52400</td>\n",
       "      <td>98800</td>\n",
       "      <td>58.0</td>\n",
       "      <td>25</td>\n",
       "    </tr>\n",
       "  </tbody>\n",
       "</table>\n",
       "<p>935 rows × 7 columns</p>\n",
       "</div>"
      ],
      "text/plain": [
       "     rank                                 name state_name  early_career_pay  \\\n",
       "0       1                    Auburn University    Alabama             54400   \n",
       "1       2  University of Alabama in Huntsville    Alabama             57500   \n",
       "2       3            The University of Alabama    Alabama             52300   \n",
       "3       4                  Tuskegee University    Alabama             54500   \n",
       "4       5                   Samford University    Alabama             48400   \n",
       "..    ...                                  ...        ...               ...   \n",
       "930    22                   Viterbo University  Wisconsin             46800   \n",
       "931    23       Concordia University-Wisconsin  Wisconsin             46700   \n",
       "932    24     University of Wisconsin-Parkside  Wisconsin             46000   \n",
       "933    25  University of Wisconsin-River Falls  Wisconsin             47100   \n",
       "934     1                University of Wyoming    Wyoming             52400   \n",
       "\n",
       "     mid_career_pay  make_world_better_percent  stem_percent  \n",
       "0            104500                       51.0            31  \n",
       "1            103900                       59.0            45  \n",
       "2             97400                       50.0            15  \n",
       "3             93500                       61.0            30  \n",
       "4             90500                       52.0             3  \n",
       "..              ...                        ...           ...  \n",
       "930           81900                       62.0             3  \n",
       "931           81600                       61.0             9  \n",
       "932           81400                       47.0            17  \n",
       "933           81300                       52.0            14  \n",
       "934           98800                       58.0            25  \n",
       "\n",
       "[935 rows x 7 columns]"
      ]
     },
     "execution_count": 2,
     "metadata": {},
     "output_type": "execute_result"
    }
   ],
   "source": [
    "df = pd.read_csv(r'./college/salary_potential.csv') # load data\n",
    "df"
   ]
  },
  {
   "cell_type": "code",
   "execution_count": 3,
   "metadata": {},
   "outputs": [
    {
     "data": {
      "text/plain": [
       "0      104500\n",
       "1      103900\n",
       "2       97400\n",
       "3       93500\n",
       "4       90500\n",
       "        ...  \n",
       "930     81900\n",
       "931     81600\n",
       "932     81400\n",
       "933     81300\n",
       "934     98800\n",
       "Name: mid_career_pay, Length: 935, dtype: int64"
      ]
     },
     "execution_count": 3,
     "metadata": {},
     "output_type": "execute_result"
    }
   ],
   "source": [
    "df.mid_career_pay"
   ]
  },
  {
   "cell_type": "code",
   "execution_count": 4,
   "metadata": {},
   "outputs": [
    {
     "data": {
      "image/png": "[encoded data removed]",
      "text/plain": [
       "<Figure size 432x288 with 1 Axes>"
      ]
     },
     "metadata": {
      "needs_background": "light"
     },
     "output_type": "display_data"
    }
   ],
   "source": [
    "ax = df.mid_career_pay.plot(kind='hist')\n",
    "plt.title('Mid career pay')\n",
    "plt.xlabel('Pay')\n",
    "plt.ylabel('Number of colleges')\n",
    "plt.show()"
   ]
  },
  {
   "cell_type": "code",
   "execution_count": 5,
   "metadata": {},
   "outputs": [
    {
     "data": {
      "image/png": "[encoded data removed]",
      "text/plain": [
       "<Figure size 432x288 with 1 Axes>"
      ]
     },
     "metadata": {
      "needs_background": "light"
     },
     "output_type": "display_data"
    }
   ],
   "source": [
    "ax = df.early_career_pay.plot(kind='hist')\n",
    "plt.title('Early career pay')\n",
    "plt.xlabel('Pay')\n",
    "plt.ylabel('Number of colleges')\n",
    "plt.show()"
   ]
  },
  {
   "cell_type": "code",
   "execution_count": 6,
   "metadata": {},
   "outputs": [
    {
     "data": {
      "text/html": [
       "<div>\n",
       "<style scoped>\n",
       "    .dataframe tbody tr th:only-of-type {\n",
       "        vertical-align: middle;\n",
       "    }\n",
       "\n",
       "    .dataframe tbody tr th {\n",
       "        vertical-align: top;\n",
       "    }\n",
       "\n",
       "    .dataframe thead th {\n",
       "        text-align: right;\n",
       "    }\n",
       "</style>\n",
       "<table border=\"1\" class=\"dataframe\">\n",
       "  <thead>\n",
       "    <tr style=\"text-align: right;\">\n",
       "      <th></th>\n",
       "      <th>mid_career_pay</th>\n",
       "      <th>early_career_pay</th>\n",
       "    </tr>\n",
       "  </thead>\n",
       "  <tbody>\n",
       "    <tr>\n",
       "      <th>0</th>\n",
       "      <td>104500</td>\n",
       "      <td>54400</td>\n",
       "    </tr>\n",
       "    <tr>\n",
       "      <th>1</th>\n",
       "      <td>103900</td>\n",
       "      <td>57500</td>\n",
       "    </tr>\n",
       "    <tr>\n",
       "      <th>2</th>\n",
       "      <td>97400</td>\n",
       "      <td>52300</td>\n",
       "    </tr>\n",
       "    <tr>\n",
       "      <th>3</th>\n",
       "      <td>93500</td>\n",
       "      <td>54500</td>\n",
       "    </tr>\n",
       "    <tr>\n",
       "      <th>4</th>\n",
       "      <td>90500</td>\n",
       "      <td>48400</td>\n",
       "    </tr>\n",
       "    <tr>\n",
       "      <th>...</th>\n",
       "      <td>...</td>\n",
       "      <td>...</td>\n",
       "    </tr>\n",
       "    <tr>\n",
       "      <th>930</th>\n",
       "      <td>81900</td>\n",
       "      <td>46800</td>\n",
       "    </tr>\n",
       "    <tr>\n",
       "      <th>931</th>\n",
       "      <td>81600</td>\n",
       "      <td>46700</td>\n",
       "    </tr>\n",
       "    <tr>\n",
       "      <th>932</th>\n",
       "      <td>81400</td>\n",
       "      <td>46000</td>\n",
       "    </tr>\n",
       "    <tr>\n",
       "      <th>933</th>\n",
       "      <td>81300</td>\n",
       "      <td>47100</td>\n",
       "    </tr>\n",
       "    <tr>\n",
       "      <th>934</th>\n",
       "      <td>98800</td>\n",
       "      <td>52400</td>\n",
       "    </tr>\n",
       "  </tbody>\n",
       "</table>\n",
       "<p>935 rows × 2 columns</p>\n",
       "</div>"
      ],
      "text/plain": [
       "     mid_career_pay  early_career_pay\n",
       "0            104500             54400\n",
       "1            103900             57500\n",
       "2             97400             52300\n",
       "3             93500             54500\n",
       "4             90500             48400\n",
       "..              ...               ...\n",
       "930           81900             46800\n",
       "931           81600             46700\n",
       "932           81400             46000\n",
       "933           81300             47100\n",
       "934           98800             52400\n",
       "\n",
       "[935 rows x 2 columns]"
      ]
     },
     "execution_count": 6,
     "metadata": {},
     "output_type": "execute_result"
    }
   ],
   "source": [
    "df[['mid_career_pay', 'early_career_pay']]"
   ]
  },
  {
   "cell_type": "code",
   "execution_count": 7,
   "metadata": {},
   "outputs": [
    {
     "data": {
      "image/png": "[encoded data removed]",
      "text/plain": [
       "<Figure size 432x288 with 1 Axes>"
      ]
     },
     "metadata": {
      "needs_background": "light"
     },
     "output_type": "display_data"
    }
   ],
   "source": [
    "ax = df[['mid_career_pay', 'early_career_pay']].plot(kind='hist', alpha=0.5)\n",
    "plt.title('Early and mid career pay')\n",
    "plt.xlabel('Pay')\n",
    "plt.ylabel('Number of colleges')\n",
    "plt.show()"
   ]
  },
  {
   "cell_type": "code",
   "execution_count": 8,
   "metadata": {},
   "outputs": [],
   "source": [
    "import numpy as np"
   ]
  },
  {
   "cell_type": "code",
   "execution_count": 9,
   "metadata": {},
   "outputs": [
    {
     "data": {
      "image/png": "[encoded data removed]",
      "text/plain": [
       "<Figure size 432x288 with 1 Axes>"
      ]
     },
     "metadata": {
      "needs_background": "light"
     },
     "output_type": "display_data"
    }
   ],
   "source": [
    "count, bin_edges = np.histogram(df[['mid_career_pay', 'early_career_pay']]) # get the bin edges to label the x axis\n",
    "\n",
    "ax = df[['mid_career_pay', 'early_career_pay']].plot(kind='hist', alpha=0.5, xticks=bin_edges) \n",
    "plt.title('Early and mid career pay')\n",
    "plt.xlabel('Pay')\n",
    "plt.ylabel('Number of colleges')\n",
    "plt.xticks(rotation=90) # Rotate the x axis labels\n",
    "plt.show()"
   ]
  }
 ],
 "metadata": {
  "kernelspec": {
   "display_name": "Python 3.8.2 64-bit (conda)",
   "language": "python",
   "name": "python38264bitconda579f63bc2f94416d90c0e065b05d86ff"
  },
  "language_info": {
   "codemirror_mode": {
    "name": "ipython",
    "version": 3
   },
   "file_extension": ".py",
   "mimetype": "text/x-python",
   "name": "python",
   "nbconvert_exporter": "python",
   "pygments_lexer": "ipython3",
   "version": "3.8.2"
  }
 },
 "nbformat": 4,
 "nbformat_minor": 4
}
