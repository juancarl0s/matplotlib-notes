{
 "cells": [
  {
   "cell_type": "code",
   "execution_count": 1,
   "metadata": {},
   "outputs": [],
   "source": [
    "import matplotlib.pyplot as plt"
   ]
  },
  {
   "cell_type": "markdown",
   "metadata": {},
   "source": [
    "# Matplotlib architechture\n",
    "\n",
    "From https://www.aosabook.org/en/matplotlib.html\n",
    "> The top-level matplotlib object that contains and manages all of the elements in a given graphic is called the Figure. One of the core architectural tasks matplotlib must solve is implementing a framework for representing and manipulating the Figure that is segregated from the act of rendering the Figure to a user interface window or hardcopy.\n",
    "\n",
    "> The architecture to accomplish this is logically separated into three layers, which can be viewed as a stack. Each layer that sits above another layer knows how to talk to the layer below it, but the lower layer is not aware of the layers above it. The three layers from bottom to top are: backend, artist, and scripting.\n",
    "\n",
    "1. Scripting layer (pyplot)\n",
    "\n",
    "2. Artist layer (Artist)\n",
    "\n",
    "3. Backend layer (FigureCanvas, Rendered, Event)"
   ]
  },
  {
   "cell_type": "markdown",
   "metadata": {},
   "source": [
    "## Backend Layer\n",
    "\n",
    "Implements interfaces `matplotlib.backend_bases.FigureCanvas`, :\n",
    "\n",
    "- `FigureCanvas` surface onto which the figure is drawn.\n",
    "- `Renderer` does the drawing, knows how to draw onto `FigureCanvas` (e.g. \"the paintbrush\").\n",
    "- `Event` handles user inputs such as keyboard and mouse events.\n"
   ]
  },
  {
   "cell_type": "markdown",
   "metadata": {},
   "source": [
    "## Artist Layer\n",
    "\n",
    "Where much of the heavy lifting happens, the `Artist` is the object that knows how to tamke the `Renderer`\n",
    "and draw on the `FigureCanvas`.\n",
    "\n",
    "Everything you see in a matplotlib `Figure` is an `Artist` instance; the title, the lines, the tick labels,\n",
    "the images, and so on all correspond to individual Artist instances.\n",
    "\n",
    "The base class is `matplotlib.artist.Artist`, which contains attributes that every Artist shares\n",
    "\n",
    "Types of `Artists`\n",
    "1. **Primitive**: represent the kinds of objects you see in a plot\n",
    "  - `Line2D`\n",
    "  - `Rectangle`\n",
    "  - `Circle`\n",
    "  - `Text`\n",
    "2. **Composite**: collections of artists\n",
    "  - `Axis`\n",
    "  - `Tick`\n",
    "  - `Axes`: where most of the matplotlib API plotting methods are defined. Contains most of the graphical elements that make up the background of the plot . Contains numerous helper methods that create primitive artists and add them to the Axes instance.\n",
    "  - `Figure`: contains one or more composite `Axe`s and the background of the Figure is a primitive Rectangle\n",
    "\n",
    "Composite hirearchy example:\n",
    "- `Figure`\n",
    "  - `Axes`\n",
    "    - `Axis`\n",
    "      - `XAxis`\n",
    "      - `YAxis`\n",
    "      - `Tick`"
   ]
  },
  {
   "cell_type": "code",
   "execution_count": 2,
   "metadata": {},
   "outputs": [
    {
     "data": {
      "image/png": "[encoded data removed]",
      "text/plain": [
       "<Figure size 432x288 with 1 Axes>"
      ]
     },
     "metadata": {
      "needs_background": "light"
     },
     "output_type": "display_data"
    }
   ],
   "source": [
    "# Import the FigureCanvas from the backend of your choice\n",
    "#  and attach the Figure artist to it.\n",
    "from matplotlib.backends.backend_agg import FigureCanvasAgg as FigureCanvas\n",
    "from matplotlib.figure import Figure\n",
    "fig = Figure()\n",
    "canvas = FigureCanvas(fig)\n",
    "\n",
    "# Import the numpy library to generate the random numbers.\n",
    "import numpy as np\n",
    "x = np.random.randn(10000)\n",
    "\n",
    "# Now use a figure method to create an Axes artist; the Axes artist is\n",
    "#  added automatically to the figure container fig.axes.\n",
    "# Here \"111\" is from the MATLAB convention: create a grid with 1 row and 1\n",
    "#  column, and use the first cell in that grid for the location of the new\n",
    "#  Axes.\n",
    "ax = fig.add_subplot(111)\n",
    "\n",
    "# Call the Axes method hist to generate the histogram; hist creates a\n",
    "#  sequence of Rectangle artists for each histogram bar and adds them\n",
    "#  to the Axes contai\n",
    "ax.hist(x, 100)\n",
    "\n",
    "# Create a dummy figure just so we can use its manager to display \"fig\"\n",
    "dummy = plt.figure()\n",
    "new_manager = dummy.canvas.manager\n",
    "new_manager.canvas.figure = fig"
   ]
  },
  {
   "cell_type": "markdown",
   "metadata": {},
   "source": [
    "## Scripting Layer\n",
    "Lighter scripting interface, compromised mainly of `pyplot`\n",
    ">`pyplot`: stateful interface handling much of the boilerplate for creating figures and axes and connecting them to the backend of your choice, and maintains module-level internal data structures representing the current figure and axes to which to direct plotting commands."
   ]
  },
  {
   "cell_type": "code",
   "execution_count": 3,
   "metadata": {},
   "outputs": [
    {
     "data": {
      "image/png": "[encoded data removed]",
      "text/plain": [
       "<Figure size 432x288 with 1 Axes>"
      ]
     },
     "metadata": {
      "needs_background": "light"
     },
     "output_type": "display_data"
    }
   ],
   "source": [
    "import matplotlib.pyplot as plt\n",
    "import numpy as np\n",
    "\n",
    "x = np.random.randn(10000)\n",
    "plt.hist(x, 100)\n",
    "plt.title(r'Normal distribution with $\\mu=0, \\sigma=1$')\n",
    "plt.savefig('matplotlib_histogram.png')\n",
    "plt.show()"
   ]
  },
  {
   "cell_type": "markdown",
   "metadata": {},
   "source": [
    "Dissecting the above\n",
    "Let's dissect the important lines in the script to see how this internal state is managed.\n",
    "\n",
    "#### `import matplotlib.pyplot as plt`: \n",
    "When the pyplot module is loaded, it parses a local configuration file\n",
    "in which the user states, among many other things, their preference for a default backend.\n",
    "\n",
    "#### `plt.hist(x, 100)` `pyplot` \n",
    "Checks its internal data structures to see if there is a current `Figure` instance.\n",
    "If so, extract its current `Axes` and direct plotting to `Axes.hist`. If there is none, this creates a `Figure`\n",
    "and `Axes` for you, then again directs plotting to `Axes.hist`.\n",
    "\n",
    "#### `plt.title(r'Normal distribution with $\\mu=0, \\sigma=1$')`\n",
    "Look for internal `Figure` and `Axes`, then directs the call to the existing `Axes`' `Axes.set_title`.\n",
    "\n",
    "#### `plt.show()`\n",
    "Force `Figure` to render\n",
    "    "
   ]
  }
 ],
 "metadata": {
  "kernelspec": {
   "display_name": "Python 3.8.2 64-bit (conda)",
   "language": "python",
   "name": "python38264bitconda579f63bc2f94416d90c0e065b05d86ff"
  },
  "language_info": {
   "codemirror_mode": {
    "name": "ipython",
    "version": 3
   },
   "file_extension": ".py",
   "mimetype": "text/x-python",
   "name": "python",
   "nbconvert_exporter": "python",
   "pygments_lexer": "ipython3",
   "version": "3.8.2"
  }
 },
 "nbformat": 4,
 "nbformat_minor": 4
}
