{
 "cells": [
  {
   "cell_type": "markdown",
   "metadata": {},
   "source": [
    "## Scatterplot\n",
    "Displays values of typically two variables agains each other, often used to determine correlation between a dependent and independent variable"
   ]
  },
  {
   "cell_type": "code",
   "execution_count": 1,
   "metadata": {},
   "outputs": [],
   "source": [
    "import matplotlib as mpl\n",
    "import matplotlib.pyplot as plt\n",
    "import pandas as pd"
   ]
  },
  {
   "cell_type": "markdown",
   "metadata": {},
   "source": [
    "Pandas has a built-in implementation of matplotlib, which makes plotting much easier for us. Let's try it out"
   ]
  },
  {
   "cell_type": "code",
   "execution_count": 2,
   "metadata": {},
   "outputs": [
    {
     "data": {
      "text/html": [
       "<div>\n",
       "<style scoped>\n",
       "    .dataframe tbody tr th:only-of-type {\n",
       "        vertical-align: middle;\n",
       "    }\n",
       "\n",
       "    .dataframe tbody tr th {\n",
       "        vertical-align: top;\n",
       "    }\n",
       "\n",
       "    .dataframe thead th {\n",
       "        text-align: right;\n",
       "    }\n",
       "</style>\n",
       "<table border=\"1\" class=\"dataframe\">\n",
       "  <thead>\n",
       "    <tr style=\"text-align: right;\">\n",
       "      <th></th>\n",
       "      <th>type</th>\n",
       "      <th>year</th>\n",
       "      <th>tuition_type</th>\n",
       "      <th>tuition_cost</th>\n",
       "    </tr>\n",
       "  </thead>\n",
       "  <tbody>\n",
       "    <tr>\n",
       "      <th>0</th>\n",
       "      <td>All Institutions</td>\n",
       "      <td>1985-86</td>\n",
       "      <td>All Constant</td>\n",
       "      <td>10893</td>\n",
       "    </tr>\n",
       "    <tr>\n",
       "      <th>1</th>\n",
       "      <td>All Institutions</td>\n",
       "      <td>1985-86</td>\n",
       "      <td>4 Year Constant</td>\n",
       "      <td>12274</td>\n",
       "    </tr>\n",
       "    <tr>\n",
       "      <th>2</th>\n",
       "      <td>All Institutions</td>\n",
       "      <td>1985-86</td>\n",
       "      <td>2 Year Constant</td>\n",
       "      <td>7508</td>\n",
       "    </tr>\n",
       "    <tr>\n",
       "      <th>3</th>\n",
       "      <td>All Institutions</td>\n",
       "      <td>1985-86</td>\n",
       "      <td>All Current</td>\n",
       "      <td>4885</td>\n",
       "    </tr>\n",
       "    <tr>\n",
       "      <th>4</th>\n",
       "      <td>All Institutions</td>\n",
       "      <td>1985-86</td>\n",
       "      <td>4 Year Current</td>\n",
       "      <td>5504</td>\n",
       "    </tr>\n",
       "    <tr>\n",
       "      <th>...</th>\n",
       "      <td>...</td>\n",
       "      <td>...</td>\n",
       "      <td>...</td>\n",
       "      <td>...</td>\n",
       "    </tr>\n",
       "    <tr>\n",
       "      <th>265</th>\n",
       "      <td>Private</td>\n",
       "      <td>2016-17</td>\n",
       "      <td>4 Year Constant</td>\n",
       "      <td>41468</td>\n",
       "    </tr>\n",
       "    <tr>\n",
       "      <th>266</th>\n",
       "      <td>Private</td>\n",
       "      <td>2016-17</td>\n",
       "      <td>2 Year Constant</td>\n",
       "      <td>24882</td>\n",
       "    </tr>\n",
       "    <tr>\n",
       "      <th>267</th>\n",
       "      <td>Private</td>\n",
       "      <td>2016-17</td>\n",
       "      <td>All Current</td>\n",
       "      <td>40925</td>\n",
       "    </tr>\n",
       "    <tr>\n",
       "      <th>268</th>\n",
       "      <td>Private</td>\n",
       "      <td>2016-17</td>\n",
       "      <td>4 Year Current</td>\n",
       "      <td>41468</td>\n",
       "    </tr>\n",
       "    <tr>\n",
       "      <th>269</th>\n",
       "      <td>Private</td>\n",
       "      <td>2016-17</td>\n",
       "      <td>2 Year Current</td>\n",
       "      <td>24882</td>\n",
       "    </tr>\n",
       "  </tbody>\n",
       "</table>\n",
       "<p>270 rows × 4 columns</p>\n",
       "</div>"
      ],
      "text/plain": [
       "                 type     year     tuition_type  tuition_cost\n",
       "0    All Institutions  1985-86     All Constant         10893\n",
       "1    All Institutions  1985-86  4 Year Constant         12274\n",
       "2    All Institutions  1985-86  2 Year Constant          7508\n",
       "3    All Institutions  1985-86      All Current          4885\n",
       "4    All Institutions  1985-86   4 Year Current          5504\n",
       "..                ...      ...              ...           ...\n",
       "265           Private  2016-17  4 Year Constant         41468\n",
       "266           Private  2016-17  2 Year Constant         24882\n",
       "267           Private  2016-17      All Current         40925\n",
       "268           Private  2016-17   4 Year Current         41468\n",
       "269           Private  2016-17   2 Year Current         24882\n",
       "\n",
       "[270 rows x 4 columns]"
      ]
     },
     "execution_count": 2,
     "metadata": {},
     "output_type": "execute_result"
    }
   ],
   "source": [
    "df = pd.read_csv(r'./college/historical_tuition.csv') # load data\n",
    "df.tuition_type.unique()\n",
    "df"
   ]
  },
  {
   "cell_type": "code",
   "execution_count": 3,
   "metadata": {},
   "outputs": [
    {
     "data": {
      "text/html": [
       "<div>\n",
       "<style scoped>\n",
       "    .dataframe tbody tr th:only-of-type {\n",
       "        vertical-align: middle;\n",
       "    }\n",
       "\n",
       "    .dataframe tbody tr th {\n",
       "        vertical-align: top;\n",
       "    }\n",
       "\n",
       "    .dataframe thead th {\n",
       "        text-align: right;\n",
       "    }\n",
       "</style>\n",
       "<table border=\"1\" class=\"dataframe\">\n",
       "  <thead>\n",
       "    <tr style=\"text-align: right;\">\n",
       "      <th></th>\n",
       "      <th>type</th>\n",
       "      <th>year</th>\n",
       "      <th>tuition_type</th>\n",
       "      <th>tuition_cost</th>\n",
       "    </tr>\n",
       "  </thead>\n",
       "  <tbody>\n",
       "    <tr>\n",
       "      <th>0</th>\n",
       "      <td>All Institutions</td>\n",
       "      <td>1985-86</td>\n",
       "      <td>All Constant</td>\n",
       "      <td>10893</td>\n",
       "    </tr>\n",
       "    <tr>\n",
       "      <th>6</th>\n",
       "      <td>All Institutions</td>\n",
       "      <td>1995-96</td>\n",
       "      <td>All Constant</td>\n",
       "      <td>13822</td>\n",
       "    </tr>\n",
       "    <tr>\n",
       "      <th>12</th>\n",
       "      <td>All Institutions</td>\n",
       "      <td>2000-01</td>\n",
       "      <td>All Constant</td>\n",
       "      <td>14995</td>\n",
       "    </tr>\n",
       "    <tr>\n",
       "      <th>18</th>\n",
       "      <td>All Institutions</td>\n",
       "      <td>2001-02</td>\n",
       "      <td>All Constant</td>\n",
       "      <td>15497</td>\n",
       "    </tr>\n",
       "    <tr>\n",
       "      <th>24</th>\n",
       "      <td>All Institutions</td>\n",
       "      <td>2002-03</td>\n",
       "      <td>All Constant</td>\n",
       "      <td>16008</td>\n",
       "    </tr>\n",
       "  </tbody>\n",
       "</table>\n",
       "</div>"
      ],
      "text/plain": [
       "                type     year  tuition_type  tuition_cost\n",
       "0   All Institutions  1985-86  All Constant         10893\n",
       "6   All Institutions  1995-96  All Constant         13822\n",
       "12  All Institutions  2000-01  All Constant         14995\n",
       "18  All Institutions  2001-02  All Constant         15497\n",
       "24  All Institutions  2002-03  All Constant         16008"
      ]
     },
     "execution_count": 3,
     "metadata": {},
     "output_type": "execute_result"
    }
   ],
   "source": [
    "df = df[(df.tuition_type=='All Constant') & (df.type=='All Institutions')]\n",
    "df.head()"
   ]
  },
  {
   "cell_type": "code",
   "execution_count": 4,
   "metadata": {},
   "outputs": [
    {
     "data": {
      "image/png": "[encoded data removed]",
      "text/plain": [
       "<Figure size 432x288 with 1 Axes>"
      ]
     },
     "metadata": {
      "needs_background": "light"
     },
     "output_type": "display_data"
    }
   ],
   "source": [
    "df.plot(\n",
    "    kind='scatter',\n",
    "    x='year',\n",
    "    y='tuition_cost'\n",
    ")\n",
    "plt.xticks(rotation=90)\n",
    "plt.show()"
   ]
  },
  {
   "cell_type": "markdown",
   "metadata": {},
   "source": [
    "Note that this is not the best graph option for this particular data, but still works for illustration purposes"
   ]
  }
 ],
 "metadata": {
  "kernelspec": {
   "display_name": "Python 3.8.2 64-bit (conda)",
   "language": "python",
   "name": "python38264bitconda579f63bc2f94416d90c0e065b05d86ff"
  },
  "language_info": {
   "codemirror_mode": {
    "name": "ipython",
    "version": 3
   },
   "file_extension": ".py",
   "mimetype": "text/x-python",
   "name": "python",
   "nbconvert_exporter": "python",
   "pygments_lexer": "ipython3",
   "version": "3.8.2"
  }
 },
 "nbformat": 4,
 "nbformat_minor": 4
}
